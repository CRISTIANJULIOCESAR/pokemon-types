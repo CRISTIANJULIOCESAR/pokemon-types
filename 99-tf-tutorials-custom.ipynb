{
 "cells": [
  {
   "cell_type": "code",
   "execution_count": 1,
   "metadata": {
    "ExecuteTime": {
     "end_time": "2020-07-12T15:04:08.511484Z",
     "start_time": "2020-07-12T15:04:02.924811Z"
    }
   },
   "outputs": [],
   "source": [
    "import numpy as np\n",
    "import matplotlib.pyplot as plt  \n",
    "import tensorflow as tf\n"
   ]
  },
  {
   "cell_type": "markdown",
   "metadata": {},
   "source": [
    "# Custom Stuff with tf \n",
    "\n",
    "Following [this](https://www.tensorflow.org/tutorials/customization/basics) tutorial.  \n",
    "\n"
   ]
  },
  {
   "cell_type": "markdown",
   "metadata": {
    "heading_collapsed": true
   },
   "source": [
    "## Tensors and Operations "
   ]
  },
  {
   "cell_type": "markdown",
   "metadata": {
    "hidden": true
   },
   "source": [
    "### Tensors \n",
    "+ ndarray similar to np arrays \n",
    "+ have a dtype and shape  \n",
    "+ can resides in acellerator memory (like GPU)  \n",
    "+ operations exist that consume and produce tensors (tf.add, tf.matmul, etc.) \n"
   ]
  },
  {
   "cell_type": "code",
   "execution_count": 16,
   "metadata": {
    "ExecuteTime": {
     "end_time": "2020-07-12T15:46:58.281414Z",
     "start_time": "2020-07-12T15:46:58.275429Z"
    },
    "hidden": true
   },
   "outputs": [
    {
     "name": "stdout",
     "output_type": "stream",
     "text": [
      "tf.Tensor(3, shape=(), dtype=int32)\n",
      "tf.Tensor([5 5], shape=(2,), dtype=int32)\n"
     ]
    }
   ],
   "source": [
    "print(tf.add(1, 2))\n",
    "print(tf.add([1, 2], [4, 3]))"
   ]
  },
  {
   "cell_type": "markdown",
   "metadata": {
    "hidden": true
   },
   "source": [
    "Differences between np arrays and tf arrays \n",
    "+ backed by accelerator memory (GPU, TPU) \n",
    "+ immutable "
   ]
  },
  {
   "cell_type": "code",
   "execution_count": 36,
   "metadata": {
    "ExecuteTime": {
     "end_time": "2020-07-12T15:58:30.830491Z",
     "start_time": "2020-07-12T15:58:30.825505Z"
    },
    "hidden": true
   },
   "outputs": [
    {
     "name": "stdout",
     "output_type": "stream",
     "text": [
      "Assignment cant happen\n"
     ]
    }
   ],
   "source": [
    "t = tf.convert_to_tensor([1, 3])\n",
    "try: \n",
    "    t[1] = 2\n",
    "    print(t)\n",
    "except:\n",
    "    print('Assignment cant happen')"
   ]
  },
  {
   "cell_type": "markdown",
   "metadata": {
    "hidden": true
   },
   "source": [
    "### Datasets \n",
    "\n",
    "The dataset API builds pipelines for feeding data to your model.  It is used to build performant, complex input pipelines from simple, re-usable pieces that will feed your model's training or evaluation loops.  \n",
    "\n",
    "\n",
    "#### Creating a source dataset \n",
    "\n",
    "`Dataset.from_tensors` , `Dataset.from_tensor_slices`, `TextLineDataset`, `TFRecordDataset`.  \n",
    "See [dataset guide](https://www.tensorflow.org/guide/datasets#reading_input_data) for more info "
   ]
  },
  {
   "cell_type": "code",
   "execution_count": 49,
   "metadata": {
    "ExecuteTime": {
     "end_time": "2020-07-12T16:28:59.565684Z",
     "start_time": "2020-07-12T16:28:59.554714Z"
    },
    "hidden": true
   },
   "outputs": [],
   "source": [
    "ds_tensors = tf.data.Dataset.from_tensor_slices([1, 2, 3, 4, 5, 6, 7, 8, 9])\n",
    "\n",
    "import tempfile \n",
    "\n",
    "_, filename = tempfile.mkstemp()\n",
    "\n",
    "with open(filename, 'w') as f: \n",
    "    f.write(\"\"\"Line 1 \n",
    "    Line 2\n",
    "    Line 3\"\"\")\n",
    "    \n",
    "ds_file = tf.data.TextLineDataset(filename)"
   ]
  },
  {
   "cell_type": "markdown",
   "metadata": {
    "hidden": true
   },
   "source": [
    "#### Apply transformations \n",
    "\n",
    "Use `map`, `batch`, `shuffle` to apply transforms "
   ]
  },
  {
   "cell_type": "code",
   "execution_count": 50,
   "metadata": {
    "ExecuteTime": {
     "end_time": "2020-07-12T16:29:02.471915Z",
     "start_time": "2020-07-12T16:29:02.463936Z"
    },
    "hidden": true
   },
   "outputs": [],
   "source": [
    "ds_tensors = ds_tensors.map(tf.square).shuffle(3).batch(3)\n",
    "\n",
    "ds_file = ds_file.batch(2) "
   ]
  },
  {
   "cell_type": "markdown",
   "metadata": {
    "hidden": true
   },
   "source": [
    "#### Iterate "
   ]
  },
  {
   "cell_type": "code",
   "execution_count": 52,
   "metadata": {
    "ExecuteTime": {
     "end_time": "2020-07-12T16:29:15.151020Z",
     "start_time": "2020-07-12T16:29:15.135061Z"
    },
    "hidden": true
   },
   "outputs": [
    {
     "name": "stdout",
     "output_type": "stream",
     "text": [
      "Elements of ds_tensors: \n",
      "tf.Tensor([ 4 16  1], shape=(3,), dtype=int32)\n",
      "tf.Tensor([ 9 36 25], shape=(3,), dtype=int32)\n",
      "tf.Tensor([64 49 81], shape=(3,), dtype=int32)\n",
      "\n",
      "\n",
      "Elements of ds_file\n",
      "tf.Tensor([b'Line 1 ' b'    Line 2'], shape=(2,), dtype=string)\n",
      "tf.Tensor([b'    Line 3'], shape=(1,), dtype=string)\n"
     ]
    }
   ],
   "source": [
    "print(\"Elements of ds_tensors: \")\n",
    "for x in ds_tensors: \n",
    "    print(x)\n",
    "\n",
    "print(\"\\n\\nElements of ds_file\")\n",
    "for x in ds_file: \n",
    "    print(x)"
   ]
  },
  {
   "cell_type": "code",
   "execution_count": null,
   "metadata": {
    "hidden": true
   },
   "outputs": [],
   "source": []
  },
  {
   "cell_type": "markdown",
   "metadata": {},
   "source": [
    "## Custom layers "
   ]
  },
  {
   "cell_type": "markdown",
   "metadata": {},
   "source": [
    "### Basics about layers "
   ]
  },
  {
   "cell_type": "markdown",
   "metadata": {},
   "source": [
    "ML models are expressible as the composition and stacking of relatively simple layers, and tf provides both a set of many common flayers as well as easy ways for you to write your own application-specific layers from scratch or as the composition of existing layers.  \n",
    "\n",
    "\n"
   ]
  },
  {
   "cell_type": "code",
   "execution_count": 6,
   "metadata": {},
   "outputs": [],
   "source": [
    "import tensorflow as tf \n",
    "\n",
    "layer = tf.keras.layers.Dense(100) \n",
    "\n",
    "# Specifying the input shape is not required, \n",
    "#   but it is helpful for bookkeeping  \n",
    "#   None is okay because the first dim is often batch size \n",
    "layer = tf.keras.layers.Dense(10, input_shape=(None, 5)) "
   ]
  },
  {
   "cell_type": "markdown",
   "metadata": {},
   "source": [
    "The full list of pre-existing layers can be found in the [tf documentaiton](https://www.tensorflow.org/api_docs/python/tf/keras/layers).  \n",
    "\n",
    "To use a layer, call it like a function.  "
   ]
  },
  {
   "cell_type": "code",
   "execution_count": 9,
   "metadata": {},
   "outputs": [
    {
     "data": {
      "text/plain": [
       "<tf.Tensor: shape=(3, 10), dtype=float32, numpy=\n",
       "array([[ 0.19751541, -0.7054427 ,  0.1310861 ,  0.06377794, -0.39124075,\n",
       "         0.21372555, -0.13490479, -1.1408858 ,  0.6495783 ,  0.24658562],\n",
       "       [-0.22508642, -0.38550738, -0.3078668 , -0.15155661, -0.22268218,\n",
       "         0.28854308, -0.03095391, -0.5763471 ,  0.01185246, -0.057073  ],\n",
       "       [-0.12592502, -0.40677354, -0.10757253, -0.00323736, -0.21257432,\n",
       "         0.29044816, -0.06279465, -0.927053  ,  0.49395704, -0.27830514]],\n",
       "      dtype=float32)>"
      ]
     },
     "execution_count": 9,
     "metadata": {},
     "output_type": "execute_result"
    }
   ],
   "source": [
    "rand_input = tf.random.uniform(shape=(3, 5))\n",
    "layer(rand_input)"
   ]
  },
  {
   "cell_type": "markdown",
   "metadata": {},
   "source": [
    "View the layer's internal weights with: \n",
    "+ `.variables` \n",
    "+ `.kernel`\n",
    "+ `.bias`\n",
    "+ `.get_weights()`"
   ]
  },
  {
   "cell_type": "code",
   "execution_count": 15,
   "metadata": {},
   "outputs": [
    {
     "name": "stdout",
     "output_type": "stream",
     "text": [
      "The weights:  [[-0.6151457  -0.37732014 -0.36944306 -0.07923156 -0.06382227  0.54897386\n",
      "   0.28158545 -0.41779557 -0.32737064 -0.03373742]\n",
      " [ 0.40742654  0.06895435 -0.08180958 -0.11154413 -0.2934218  -0.08933067\n",
      "  -0.30466813 -0.528558    0.04949534 -0.40269253]\n",
      " [ 0.4454506  -0.3880657  -0.25994587 -0.40932828 -0.4102828  -0.4038393\n",
      "  -0.6317298  -0.16619813  0.43802637  0.40047497]\n",
      " [-0.4091817  -0.40072578  0.33082432  0.3862627   0.13596869  0.51842386\n",
      "   0.56901294 -0.34254694 -0.01703238  0.4178304 ]\n",
      " [ 0.02109462  0.27399957  0.4948818   0.4104212   0.30240148 -0.00092238\n",
      "   0.19588804 -0.08725476  0.5730093  -0.40063772]]\n",
      "\n",
      "\n",
      "The bias vector:  [0. 0. 0. 0. 0. 0. 0. 0. 0. 0.]\n"
     ]
    }
   ],
   "source": [
    "print(\"The weights: \", layer.get_weights()[0])\n",
    "print(\"\\n\\nThe bias vector: \", layer.get_weights()[1])"
   ]
  },
  {
   "cell_type": "markdown",
   "metadata": {},
   "source": [
    "### Implementing custom layers\n",
    "\n",
    "Extend the tf.keras.Layer class and implement \n",
    "\n",
    "+ `__init__`\n",
    "    + input independent initalization (you may not know the size of the input)\n",
    "+ `build`\n",
    "    + You know the shape of the input tensors, do the rest of the initialization \n",
    "+ `call`\n",
    "    + do a forward pass through the layer  \n",
    "\n"
   ]
  },
  {
   "cell_type": "code",
   "execution_count": 21,
   "metadata": {},
   "outputs": [],
   "source": [
    "class MyDenseLayer(tf.keras.layers.Layer): \n",
    "    \"\"\" A custom layer that mimicks the Dense layer \n",
    "    \"\"\"\n",
    "    \n",
    "    def __init__(self, num_outputs): \n",
    "        super(MyDenseLayer, self).__init__()\n",
    "        self.num_outputs = num_outputs \n",
    "        \n",
    "    def build(self, input_shape): \n",
    "        self.kernel = self.add_weight(\"kernel\", \n",
    "                                      shape=[int(input_shape[-1]), \n",
    "                                             self.num_outputs])\n",
    "        \n",
    "    def call(self, inp): \n",
    "        return tf.matmul(inp, self.kernel)\n",
    "    \n",
    "    \n",
    "layer = MyDenseLayer(10)"
   ]
  },
  {
   "cell_type": "code",
   "execution_count": 22,
   "metadata": {},
   "outputs": [
    {
     "data": {
      "text/plain": [
       "<tf.Tensor: shape=(3, 10), dtype=float32, numpy=\n",
       "array([[ 0.00946729,  0.8943903 , -0.6085113 ,  0.29448614, -0.47020212,\n",
       "        -0.79076886, -0.5753122 ,  0.49670878,  0.62063354,  0.371116  ],\n",
       "       [ 0.10515275, -0.1998961 , -0.1443118 ,  0.22477469,  0.00891055,\n",
       "        -0.5150931 , -0.4341933 ,  0.6582951 ,  0.36257097,  0.31927735],\n",
       "       [ 0.14457753,  0.17884803, -0.44523716,  0.7383916 , -0.42655924,\n",
       "        -0.6318537 , -0.44939354,  0.88576764,  0.7464748 ,  0.77396894]],\n",
       "      dtype=float32)>"
      ]
     },
     "execution_count": 22,
     "metadata": {},
     "output_type": "execute_result"
    }
   ],
   "source": [
    "layer(rand_input)"
   ]
  },
  {
   "cell_type": "code",
   "execution_count": 23,
   "metadata": {},
   "outputs": [
    {
     "name": "stdout",
     "output_type": "stream",
     "text": [
      "['my_dense_layer/kernel:0']\n"
     ]
    }
   ],
   "source": [
    "print([var.name for var in layer.trainable_variables])"
   ]
  },
  {
   "cell_type": "markdown",
   "metadata": {},
   "source": [
    "### Composing layers \n",
    "\n",
    "E.g. Residual block in a resnet is a composition of convolutions, batch norms, and shortcut.  Layers can be nested inside other layers.  \n",
    "\n",
    "Typically, you inherit from keras.Model when you need the model methods like: fit, evaluate, and save.  \n",
    "\n",
    "keras.Model also allows you to track internal layers in addition to tracking variables.  "
   ]
  },
  {
   "cell_type": "code",
   "execution_count": 24,
   "metadata": {},
   "outputs": [],
   "source": [
    "# skipping code for residual block...it basically inherits from \n",
    "#  keras.Model and defines a __init__() and call()"
   ]
  },
  {
   "cell_type": "markdown",
   "metadata": {},
   "source": [
    "Much of the time, layers will be called sequentially.  Thus, `tf.keras.Sequential()`.  "
   ]
  },
  {
   "cell_type": "code",
   "execution_count": 25,
   "metadata": {},
   "outputs": [
    {
     "data": {
      "text/plain": [
       "<tf.Tensor: shape=(1, 2, 3, 3), dtype=float32, numpy=\n",
       "array([[[[0., 0., 0.],\n",
       "         [0., 0., 0.],\n",
       "         [0., 0., 0.]],\n",
       "\n",
       "        [[0., 0., 0.],\n",
       "         [0., 0., 0.],\n",
       "         [0., 0., 0.]]]], dtype=float32)>"
      ]
     },
     "execution_count": 25,
     "metadata": {},
     "output_type": "execute_result"
    }
   ],
   "source": [
    "my_seq = tf.keras.Sequential([\n",
    "    tf.keras.layers.Conv2D(1, (1, 1),\n",
    "                           input_shape=(None, None, 3)),\n",
    "    tf.keras.layers.BatchNormalization(),\n",
    "    tf.keras.layers.Conv2D(2, 1, padding='same'),\n",
    "    tf.keras.layers.BatchNormalization(),\n",
    "    tf.keras.layers.Conv2D(3, (1, 1)),\n",
    "    tf.keras.layers.BatchNormalization()\n",
    "])\n",
    "\n",
    "\n",
    "my_seq(tf.zeros([1, 2, 3, 3]))"
   ]
  },
  {
   "cell_type": "code",
   "execution_count": null,
   "metadata": {},
   "outputs": [],
   "source": []
  },
  {
   "cell_type": "code",
   "execution_count": null,
   "metadata": {},
   "outputs": [],
   "source": [
    "\n"
   ]
  },
  {
   "cell_type": "markdown",
   "metadata": {},
   "source": [
    "## Custom Training \n",
    "\n",
    "Reviewing some foundational stuff before explaining how to design custom training... "
   ]
  },
  {
   "cell_type": "markdown",
   "metadata": {},
   "source": [
    "### Variables \n",
    "\n",
    "Tensors are immutable stateless objects.  `x + 2` does not mutate the state of x.  You need to do `x = x + 2`.  You cannot do `x[2] = 2`\n",
    "\n",
    "A `tf.Variable` object stores a value and implicitly reads from this stored value.  There are operations that manipulate the value stored in a tf variable.  "
   ]
  },
  {
   "cell_type": "code",
   "execution_count": 5,
   "metadata": {
    "ExecuteTime": {
     "end_time": "2020-07-12T15:09:09.203746Z",
     "start_time": "2020-07-12T15:09:09.197762Z"
    }
   },
   "outputs": [
    {
     "name": "stdout",
     "output_type": "stream",
     "text": [
      "<tf.Variable 'Variable:0' shape=() dtype=float32, numpy=1.0>\n"
     ]
    }
   ],
   "source": [
    "v = tf.Variable(1.0)\n",
    "print(v)"
   ]
  },
  {
   "cell_type": "code",
   "execution_count": 8,
   "metadata": {
    "ExecuteTime": {
     "end_time": "2020-07-12T15:09:23.745288Z",
     "start_time": "2020-07-12T15:09:23.739304Z"
    }
   },
   "outputs": [
    {
     "data": {
      "text/plain": [
       "<tf.Variable 'Variable:0' shape=() dtype=float32, numpy=3.0>"
      ]
     },
     "execution_count": 8,
     "metadata": {},
     "output_type": "execute_result"
    }
   ],
   "source": [
    "v.assign(3.0)\n",
    "v"
   ]
  },
  {
   "cell_type": "code",
   "execution_count": 12,
   "metadata": {
    "ExecuteTime": {
     "end_time": "2020-07-12T15:09:51.045748Z",
     "start_time": "2020-07-12T15:09:51.040762Z"
    }
   },
   "outputs": [
    {
     "data": {
      "text/plain": [
       "<tf.Variable 'Variable:0' shape=() dtype=float32, numpy=3.0>"
      ]
     },
     "execution_count": 12,
     "metadata": {},
     "output_type": "execute_result"
    }
   ],
   "source": [
    "v + 1\n",
    "v # remained unchanged "
   ]
  },
  {
   "cell_type": "code",
   "execution_count": 13,
   "metadata": {
    "ExecuteTime": {
     "end_time": "2020-07-12T15:10:03.981673Z",
     "start_time": "2020-07-12T15:10:03.970703Z"
    }
   },
   "outputs": [
    {
     "name": "stdout",
     "output_type": "stream",
     "text": [
      "9.0\n"
     ]
    }
   ],
   "source": [
    "v.assign(tf.square(v))\n",
    "print(v.numpy())"
   ]
  },
  {
   "cell_type": "markdown",
   "metadata": {},
   "source": [
    "Computations using `tf.Variable` are automatically traced when computing gradients.  For variables that represent embeddings, Tensorflow will do sparse updates by default, which are more computation and memory efficient.  "
   ]
  },
  {
   "cell_type": "markdown",
   "metadata": {},
   "source": [
    "### Example using linear model\n",
    "\n",
    "1. Define model \n",
    "2. Define loss function \n",
    "3. Prepare training data \n",
    "4. Run through the training data and use an optimizer to adjust the variables to fit the data \n",
    "\n",
    "We'll make a simple linear model here:  `f(x) = x*W + b`.  W=3, b=2.  \n",
    "\n",
    "\n",
    "#### Define model \n"
   ]
  },
  {
   "cell_type": "code",
   "execution_count": 27,
   "metadata": {},
   "outputs": [],
   "source": [
    "class Model(object): \n",
    "    \n",
    "    def __init__(self): \n",
    "        # init W to 5 and b to 0.  \n",
    "        #  Should actually be random numbers \n",
    "        self.W = tf.Variable(5.0) \n",
    "        self.b = tf.Variable(0.0)\n",
    "        \n",
    "    def __call__(self, x): \n",
    "        return self.W * x + self.b\n",
    "    \n",
    "    \n",
    "model = Model()\n",
    "\n",
    "assert model(3.0).numpy() == 15.0"
   ]
  },
  {
   "cell_type": "markdown",
   "metadata": {},
   "source": [
    "#### Define loss function \n",
    "\n",
    "A loss function measures how well the output of a model for a given input matches the target output.  The goal is to minimize this difference during training.  Lets use the standard L2 loss (Ridge regression)  \n"
   ]
  },
  {
   "cell_type": "code",
   "execution_count": 28,
   "metadata": {},
   "outputs": [],
   "source": [
    "def loss(y_true, y_pred): \n",
    "    \"\"\"L2 loss.   mean { (y_true - y_pred) ^2 }  \n",
    "    \"\"\"\n",
    "    return tf.reduce_mean(tf.square(y_true - y_pred))"
   ]
  },
  {
   "cell_type": "markdown",
   "metadata": {},
   "source": [
    "#### Prepare training data "
   ]
  },
  {
   "cell_type": "code",
   "execution_count": 34,
   "metadata": {},
   "outputs": [
    {
     "data": {
      "image/png": "[encoded data removed]",
      "text/plain": [
       "<Figure size 432x288 with 1 Axes>"
      ]
     },
     "metadata": {
      "needs_background": "light"
     },
     "output_type": "display_data"
    },
    {
     "name": "stdout",
     "output_type": "stream",
     "text": [
      "Current loss: 8.935750\n"
     ]
    }
   ],
   "source": [
    "TRUE_W = 3.0\n",
    "TRUE_b = 2.0\n",
    "NUM_EXAMPLES = 1000\n",
    "\n",
    "inputs  = tf.random.normal(shape=[NUM_EXAMPLES])\n",
    "noise   = tf.random.normal(shape=[NUM_EXAMPLES])\n",
    "outputs = inputs * TRUE_W + TRUE_b + noise\n",
    "\n",
    "import matplotlib.pyplot as plt\n",
    "\n",
    "plt.scatter(inputs, outputs, c='b')\n",
    "plt.scatter(inputs, model(inputs), c='r')\n",
    "plt.legend(['Data', 'Model'])\n",
    "plt.show()\n",
    "print('Current loss: %1.6f' % loss(model(inputs), outputs).numpy())\n"
   ]
  },
  {
   "cell_type": "markdown",
   "metadata": {},
   "source": [
    "#### Define training loop \n",
    "\n",
    "Use tf.GradientTape for automatic differentiation and tf.assign_sub for decrementing a value (combines tf.assign and tf.sub).  "
   ]
  },
  {
   "cell_type": "code",
   "execution_count": 35,
   "metadata": {},
   "outputs": [],
   "source": [
    "def train(model, inputs, outputs, learning_rate): \n",
    "    \n",
    "    # forward pass\n",
    "    with tf.GradientTape() as t: \n",
    "        current_loss = loss(outputs, model(inputs))\n",
    "        \n",
    "    # Compute gradients \n",
    "    dW, db = t.gradient(current_loss, [model.W, model.b])\n",
    "    \n",
    "    # Adjust weights \n",
    "    model.W.assign_sub(learning_rate * dW)\n",
    "    model.b.assign_sub(learning_rate * db)"
   ]
  },
  {
   "cell_type": "markdown",
   "metadata": {},
   "source": [
    "Tie it all together "
   ]
  },
  {
   "cell_type": "code",
   "execution_count": 36,
   "metadata": {},
   "outputs": [
    {
     "name": "stdout",
     "output_type": "stream",
     "text": [
      "Epoch  0: W=5.00 b=0.00, loss=8.93575\n",
      "Epoch  1: W=4.61 b=0.41, loss=6.07997\n",
      "Epoch  2: W=4.30 b=0.73, loss=4.24666\n",
      "Epoch  3: W=4.05 b=0.99, loss=3.06958\n",
      "Epoch  4: W=3.85 b=1.20, loss=2.31374\n",
      "Epoch  5: W=3.68 b=1.37, loss=1.82832\n",
      "Epoch  6: W=3.55 b=1.50, loss=1.51653\n",
      "Epoch  7: W=3.44 b=1.60, loss=1.31623\n",
      "Epoch  8: W=3.36 b=1.69, loss=1.18754\n",
      "Epoch  9: W=3.29 b=1.75, loss=1.10485\n"
     ]
    },
    {
     "data": {
      "image/png": "[encoded data removed]",
      "text/plain": [
       "<Figure size 432x288 with 1 Axes>"
      ]
     },
     "metadata": {
      "needs_background": "light"
     },
     "output_type": "display_data"
    }
   ],
   "source": [
    "model = Model()\n",
    "\n",
    "# Collect the history of W-values and b-values to plot later\n",
    "Ws, bs = [], []\n",
    "epochs = range(10)\n",
    "\n",
    "\n",
    "for epoch in epochs:\n",
    "  Ws.append(model.W.numpy())\n",
    "  bs.append(model.b.numpy())\n",
    "  current_loss = loss(outputs, model(inputs))\n",
    "\n",
    "  train(model, inputs, outputs, learning_rate=0.1)\n",
    "  print('Epoch %2d: W=%1.2f b=%1.2f, loss=%2.5f' %\n",
    "        (epoch, Ws[-1], bs[-1], current_loss))\n",
    "\n",
    "# Let's plot it all\n",
    "plt.plot(epochs, Ws, 'r',\n",
    "         epochs, bs, 'b')\n",
    "plt.plot([TRUE_W] * len(epochs), 'r--',\n",
    "         [TRUE_b] * len(epochs), 'b--')\n",
    "plt.legend(['W', 'b', 'True W', 'True b'])\n",
    "plt.show()\n"
   ]
  },
  {
   "cell_type": "code",
   "execution_count": null,
   "metadata": {},
   "outputs": [],
   "source": []
  },
  {
   "cell_type": "markdown",
   "metadata": {},
   "source": [
    "## Custom training walkthrough "
   ]
  },
  {
   "cell_type": "code",
   "execution_count": null,
   "metadata": {},
   "outputs": [],
   "source": []
  },
  {
   "cell_type": "code",
   "execution_count": null,
   "metadata": {},
   "outputs": [],
   "source": []
  },
  {
   "cell_type": "code",
   "execution_count": null,
   "metadata": {},
   "outputs": [],
   "source": []
  },
  {
   "cell_type": "code",
   "execution_count": null,
   "metadata": {},
   "outputs": [],
   "source": []
  }
 ],
 "metadata": {
  "kernelspec": {
   "display_name": "Python 3",
   "language": "python",
   "name": "python3"
  },
  "language_info": {
   "codemirror_mode": {
    "name": "ipython",
    "version": 3
   },
   "file_extension": ".py",
   "mimetype": "text/x-python",
   "name": "python",
   "nbconvert_exporter": "python",
   "pygments_lexer": "ipython3",
   "version": "3.7.7"
  },
  "toc": {
   "base_numbering": 1,
   "nav_menu": {},
   "number_sections": true,
   "sideBar": true,
   "skip_h1_title": false,
   "title_cell": "Table of Contents",
   "title_sidebar": "Contents",
   "toc_cell": false,
   "toc_position": {},
   "toc_section_display": true,
   "toc_window_display": false
  },
  "varInspector": {
   "cols": {
    "lenName": 16,
    "lenType": 16,
    "lenVar": 40
   },
   "kernels_config": {
    "python": {
     "delete_cmd_postfix": "",
     "delete_cmd_prefix": "del ",
     "library": "var_list.py",
     "varRefreshCmd": "print(var_dic_list())"
    },
    "r": {
     "delete_cmd_postfix": ") ",
     "delete_cmd_prefix": "rm(",
     "library": "var_list.r",
     "varRefreshCmd": "cat(var_dic_list()) "
    }
   },
   "types_to_exclude": [
    "module",
    "function",
    "builtin_function_or_method",
    "instance",
    "_Feature"
   ],
   "window_display": false
  }
 },
 "nbformat": 4,
 "nbformat_minor": 4
}
