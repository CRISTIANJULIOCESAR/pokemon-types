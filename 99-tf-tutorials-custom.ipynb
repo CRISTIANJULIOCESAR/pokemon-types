{
 "cells": [
  {
   "cell_type": "code",
   "execution_count": 1,
   "metadata": {
    "ExecuteTime": {
     "end_time": "2020-07-12T15:04:08.511484Z",
     "start_time": "2020-07-12T15:04:02.924811Z"
    }
   },
   "outputs": [],
   "source": [
    "import numpy as np\n",
    "import matplotlib.pyplot as plt  \n",
    "import tensorflow as tf\n"
   ]
  },
  {
   "cell_type": "markdown",
   "metadata": {},
   "source": [
    "# Custom Stuff with tf \n",
    "\n",
    "Following [this](https://www.tensorflow.org/tutorials/customization/basics) tutorial.  \n",
    "\n"
   ]
  },
  {
   "cell_type": "markdown",
   "metadata": {
    "heading_collapsed": true
   },
   "source": [
    "## Tensors and Operations "
   ]
  },
  {
   "cell_type": "markdown",
   "metadata": {
    "hidden": true
   },
   "source": [
    "### Tensors \n",
    "+ ndarray similar to np arrays \n",
    "+ have a dtype and shape  \n",
    "+ can resides in acellerator memory (like GPU)  \n",
    "+ operations exist that consume and produce tensors (tf.add, tf.matmul, etc.) \n"
   ]
  },
  {
   "cell_type": "code",
   "execution_count": 16,
   "metadata": {
    "ExecuteTime": {
     "end_time": "2020-07-12T15:46:58.281414Z",
     "start_time": "2020-07-12T15:46:58.275429Z"
    },
    "hidden": true
   },
   "outputs": [
    {
     "name": "stdout",
     "output_type": "stream",
     "text": [
      "tf.Tensor(3, shape=(), dtype=int32)\n",
      "tf.Tensor([5 5], shape=(2,), dtype=int32)\n"
     ]
    }
   ],
   "source": [
    "print(tf.add(1, 2))\n",
    "print(tf.add([1, 2], [4, 3]))"
   ]
  },
  {
   "cell_type": "markdown",
   "metadata": {
    "hidden": true
   },
   "source": [
    "Differences between np arrays and tf arrays \n",
    "+ backed by accelerator memory (GPU, TPU) \n",
    "+ immutable "
   ]
  },
  {
   "cell_type": "code",
   "execution_count": 36,
   "metadata": {
    "ExecuteTime": {
     "end_time": "2020-07-12T15:58:30.830491Z",
     "start_time": "2020-07-12T15:58:30.825505Z"
    },
    "hidden": true
   },
   "outputs": [
    {
     "name": "stdout",
     "output_type": "stream",
     "text": [
      "Assignment cant happen\n"
     ]
    }
   ],
   "source": [
    "t = tf.convert_to_tensor([1, 3])\n",
    "try: \n",
    "    t[1] = 2\n",
    "    print(t)\n",
    "except:\n",
    "    print('Assignment cant happen')"
   ]
  },
  {
   "cell_type": "markdown",
   "metadata": {
    "hidden": true
   },
   "source": [
    "### Datasets \n",
    "\n",
    "The dataset API builds pipelines for feeding data to your model.  It is used to build performant, complex input pipelines from simple, re-usable pieces that will feed your model's training or evaluation loops.  \n",
    "\n",
    "\n",
    "#### Creating a source dataset \n",
    "\n",
    "`Dataset.from_tensors` , `Dataset.from_tensor_slices`, `TextLineDataset`, `TFRecordDataset`.  \n",
    "See [dataset guide](https://www.tensorflow.org/guide/datasets#reading_input_data) for more info "
   ]
  },
  {
   "cell_type": "code",
   "execution_count": 49,
   "metadata": {
    "ExecuteTime": {
     "end_time": "2020-07-12T16:28:59.565684Z",
     "start_time": "2020-07-12T16:28:59.554714Z"
    },
    "hidden": true
   },
   "outputs": [],
   "source": [
    "ds_tensors = tf.data.Dataset.from_tensor_slices([1, 2, 3, 4, 5, 6, 7, 8, 9])\n",
    "\n",
    "import tempfile \n",
    "\n",
    "_, filename = tempfile.mkstemp()\n",
    "\n",
    "with open(filename, 'w') as f: \n",
    "    f.write(\"\"\"Line 1 \n",
    "    Line 2\n",
    "    Line 3\"\"\")\n",
    "    \n",
    "ds_file = tf.data.TextLineDataset(filename)"
   ]
  },
  {
   "cell_type": "markdown",
   "metadata": {
    "hidden": true
   },
   "source": [
    "#### Apply transformations \n",
    "\n",
    "Use `map`, `batch`, `shuffle` to apply transforms "
   ]
  },
  {
   "cell_type": "code",
   "execution_count": 50,
   "metadata": {
    "ExecuteTime": {
     "end_time": "2020-07-12T16:29:02.471915Z",
     "start_time": "2020-07-12T16:29:02.463936Z"
    },
    "hidden": true
   },
   "outputs": [],
   "source": [
    "ds_tensors = ds_tensors.map(tf.square).shuffle(3).batch(3)\n",
    "\n",
    "ds_file = ds_file.batch(2) "
   ]
  },
  {
   "cell_type": "markdown",
   "metadata": {
    "hidden": true
   },
   "source": [
    "#### Iterate "
   ]
  },
  {
   "cell_type": "code",
   "execution_count": 52,
   "metadata": {
    "ExecuteTime": {
     "end_time": "2020-07-12T16:29:15.151020Z",
     "start_time": "2020-07-12T16:29:15.135061Z"
    },
    "hidden": true
   },
   "outputs": [
    {
     "name": "stdout",
     "output_type": "stream",
     "text": [
      "Elements of ds_tensors: \n",
      "tf.Tensor([ 4 16  1], shape=(3,), dtype=int32)\n",
      "tf.Tensor([ 9 36 25], shape=(3,), dtype=int32)\n",
      "tf.Tensor([64 49 81], shape=(3,), dtype=int32)\n",
      "\n",
      "\n",
      "Elements of ds_file\n",
      "tf.Tensor([b'Line 1 ' b'    Line 2'], shape=(2,), dtype=string)\n",
      "tf.Tensor([b'    Line 3'], shape=(1,), dtype=string)\n"
     ]
    }
   ],
   "source": [
    "print(\"Elements of ds_tensors: \")\n",
    "for x in ds_tensors: \n",
    "    print(x)\n",
    "\n",
    "print(\"\\n\\nElements of ds_file\")\n",
    "for x in ds_file: \n",
    "    print(x)"
   ]
  },
  {
   "cell_type": "code",
   "execution_count": null,
   "metadata": {
    "hidden": true
   },
   "outputs": [],
   "source": []
  },
  {
   "cell_type": "markdown",
   "metadata": {},
   "source": [
    "## Custom layers "
   ]
  },
  {
   "cell_type": "code",
   "execution_count": null,
   "metadata": {},
   "outputs": [],
   "source": []
  },
  {
   "cell_type": "code",
   "execution_count": null,
   "metadata": {},
   "outputs": [],
   "source": []
  },
  {
   "cell_type": "code",
   "execution_count": null,
   "metadata": {},
   "outputs": [],
   "source": []
  },
  {
   "cell_type": "code",
   "execution_count": null,
   "metadata": {},
   "outputs": [],
   "source": []
  },
  {
   "cell_type": "markdown",
   "metadata": {},
   "source": [
    "## Variables \n",
    "\n",
    "Tensors are immutable stateless objects.  `x + 2` does not mutate the state of x.  You need to do `x = x + 2`.  \n",
    "\n",
    "A `tf.Variable` object stores a value and implicitly reads from this stored value.  There are operations that manipulate the value stored in a tf variable.  "
   ]
  },
  {
   "cell_type": "code",
   "execution_count": 5,
   "metadata": {
    "ExecuteTime": {
     "end_time": "2020-07-12T15:09:09.203746Z",
     "start_time": "2020-07-12T15:09:09.197762Z"
    }
   },
   "outputs": [
    {
     "name": "stdout",
     "output_type": "stream",
     "text": [
      "<tf.Variable 'Variable:0' shape=() dtype=float32, numpy=1.0>\n"
     ]
    }
   ],
   "source": [
    "v = tf.Variable(1.0)\n",
    "print(v)"
   ]
  },
  {
   "cell_type": "code",
   "execution_count": 8,
   "metadata": {
    "ExecuteTime": {
     "end_time": "2020-07-12T15:09:23.745288Z",
     "start_time": "2020-07-12T15:09:23.739304Z"
    }
   },
   "outputs": [
    {
     "data": {
      "text/plain": [
       "<tf.Variable 'Variable:0' shape=() dtype=float32, numpy=3.0>"
      ]
     },
     "execution_count": 8,
     "metadata": {},
     "output_type": "execute_result"
    }
   ],
   "source": [
    "v.assign(3.0)\n",
    "v"
   ]
  },
  {
   "cell_type": "code",
   "execution_count": 12,
   "metadata": {
    "ExecuteTime": {
     "end_time": "2020-07-12T15:09:51.045748Z",
     "start_time": "2020-07-12T15:09:51.040762Z"
    }
   },
   "outputs": [
    {
     "data": {
      "text/plain": [
       "<tf.Variable 'Variable:0' shape=() dtype=float32, numpy=3.0>"
      ]
     },
     "execution_count": 12,
     "metadata": {},
     "output_type": "execute_result"
    }
   ],
   "source": [
    "v + 1\n",
    "v # remained unchanged "
   ]
  },
  {
   "cell_type": "code",
   "execution_count": 13,
   "metadata": {
    "ExecuteTime": {
     "end_time": "2020-07-12T15:10:03.981673Z",
     "start_time": "2020-07-12T15:10:03.970703Z"
    }
   },
   "outputs": [
    {
     "name": "stdout",
     "output_type": "stream",
     "text": [
      "9.0\n"
     ]
    }
   ],
   "source": [
    "v.assign(tf.square(v))\n",
    "print(v.numpy())"
   ]
  },
  {
   "cell_type": "markdown",
   "metadata": {},
   "source": [
    "Computations using `tf.Variable` are automatically traced when computing gradients.  For variables that represent embeddings, Tensorflow will do sparse updates by default, which are more computation and memory efficient.  "
   ]
  },
  {
   "cell_type": "markdown",
   "metadata": {},
   "source": [
    "## Example using linear model\n",
    "\n"
   ]
  },
  {
   "cell_type": "code",
   "execution_count": null,
   "metadata": {},
   "outputs": [],
   "source": [
    "\n"
   ]
  },
  {
   "cell_type": "code",
   "execution_count": null,
   "metadata": {},
   "outputs": [],
   "source": []
  },
  {
   "cell_type": "code",
   "execution_count": null,
   "metadata": {},
   "outputs": [],
   "source": []
  },
  {
   "cell_type": "code",
   "execution_count": null,
   "metadata": {},
   "outputs": [],
   "source": []
  }
 ],
 "metadata": {
  "kernelspec": {
   "display_name": "Python 3",
   "language": "python",
   "name": "python3"
  },
  "language_info": {
   "codemirror_mode": {
    "name": "ipython",
    "version": 3
   },
   "file_extension": ".py",
   "mimetype": "text/x-python",
   "name": "python",
   "nbconvert_exporter": "python",
   "pygments_lexer": "ipython3",
   "version": "3.7.6"
  },
  "toc": {
   "base_numbering": 1,
   "nav_menu": {},
   "number_sections": true,
   "sideBar": true,
   "skip_h1_title": false,
   "title_cell": "Table of Contents",
   "title_sidebar": "Contents",
   "toc_cell": false,
   "toc_position": {},
   "toc_section_display": true,
   "toc_window_display": false
  },
  "varInspector": {
   "cols": {
    "lenName": 16,
    "lenType": 16,
    "lenVar": 40
   },
   "kernels_config": {
    "python": {
     "delete_cmd_postfix": "",
     "delete_cmd_prefix": "del ",
     "library": "var_list.py",
     "varRefreshCmd": "print(var_dic_list())"
    },
    "r": {
     "delete_cmd_postfix": ") ",
     "delete_cmd_prefix": "rm(",
     "library": "var_list.r",
     "varRefreshCmd": "cat(var_dic_list()) "
    }
   },
   "types_to_exclude": [
    "module",
    "function",
    "builtin_function_or_method",
    "instance",
    "_Feature"
   ],
   "window_display": false
  }
 },
 "nbformat": 4,
 "nbformat_minor": 4
}
